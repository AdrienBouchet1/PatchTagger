{
 "cells": [
  {
   "cell_type": "code",
   "execution_count": null,
   "id": "f87e40c5",
   "metadata": {},
   "outputs": [],
   "source": []
  },
  {
   "cell_type": "markdown",
   "id": "7f339773",
   "metadata": {},
   "source": [
    "## Synthèse des classifications"
   ]
  },
  {
   "cell_type": "markdown",
   "id": "3ab45212",
   "metadata": {},
   "source": []
  },
  {
   "cell_type": "code",
   "execution_count": 1,
   "id": "b6fe7b4d",
   "metadata": {},
   "outputs": [],
   "source": [
    "import pandas as pd\n",
    "import numpy as np \n",
    "from plotnine import aes, geom_line\n"
   ]
  },
  {
   "cell_type": "code",
   "execution_count": 8,
   "id": "473f9326",
   "metadata": {},
   "outputs": [],
   "source": [
    "path_Adrien=\"/home/adrienb/Documents/Adrien/datasets/New_dataset/Dataset_commun_en_forme/Output/PatchTagger_Output/categories.xlsx\"\n",
    "path_Laurence=\"\"\n",
    "path_JP=\"\"\n",
    "path_dataset_synthese=\"/home/adrienb/Documents/Adrien/datasets/New_dataset/Dataset_commun_en_forme/dataset_commun.xlsx\"\n",
    "dic_data={\"Adrien\" : {\n",
    "    \"path\":path_Adrien,\n",
    "    \"name_sheet\": \"Adrien\"\n",
    "\n",
    "\n",
    "}}"
   ]
  },
  {
   "cell_type": "markdown",
   "id": "abbe6c85",
   "metadata": {},
   "source": [
    "### Vérication des classification sans context"
   ]
  },
  {
   "cell_type": "code",
   "execution_count": 28,
   "id": "32679e1c",
   "metadata": {},
   "outputs": [],
   "source": [
    "def with_out_context_analysis(dictionary,synthesis_path): \n",
    "\n",
    "    for classifier,dic_ in dictionary.items(): \n",
    "            synthese=pd.read_excel(synthesis_path,sheet_name=dic_['name_sheet'])\n",
    "            \n",
    "            classif=pd.read_excel(dic_[\"path\"])\n",
    "            vp=0 ### vrai positif : fait sans context, prévu\n",
    "            fp=0  ### faux positif : fait sans context, pas prévu\n",
    "            ff=0 ### faut négatif : fait avec context, pas prévu \n",
    "           \n",
    "            for index,row in synthese.iterrows(): \n",
    "                  \n",
    "                name=row[\"im\"]\n",
    "                if row[\"Context\"]==\"OUI\": \n",
    "                     context=True\n",
    "                else: \n",
    "                     context=False\n",
    "\n",
    "                subset_df=classif[classif[\"Image_name\"]==name]\n",
    "                if context : \n",
    "                     s2=subset_df[subset_df[\"with-context\"]==False]\n",
    "                     fp+=s2.shape[0]\n",
    "                     if s2.shape[0] != 0 : \n",
    "                          #print(s2)\n",
    "                          print(context,name,s2.shape[0])\n",
    "                else:  \n",
    "                     sf=subset_df[subset_df[\"with-context\"]==False]\n",
    "                     sv=subset_df[subset_df[\"with-context\"]==True]\n",
    "                     vp+=sf.shape[0]\n",
    "                     ff+=sv.shape[0]\n",
    "                     if sv.shape[0] != 0 : \n",
    "                          \n",
    "                          print(context,name,sv.shape[0])\n",
    "            print(vp,fp,ff)\n"
   ]
  },
  {
   "cell_type": "code",
   "execution_count": 29,
   "id": "2741cdef",
   "metadata": {},
   "outputs": [
    {
     "name": "stdout",
     "output_type": "stream",
     "text": [
      "False 070722-Nabila-JP-Valves-WholeMount-SAureus-pat10-00.tif 1\n",
      "True 060722-Nabila-JP-Valves-WholeMount-SAureus-pat04-1-22.tif 58\n",
      "False 060525-JPB-MEB-EIHNValves-Ech3-ZigZag0045.tif 36\n",
      "False 070525-JPB-MEB-EIHNValves-Ech4-ZigZag0061.tif 11\n",
      "233 58 48\n"
     ]
    }
   ],
   "source": [
    "with_out_context_analysis(dic_data,path_dataset_synthese)"
   ]
  },
  {
   "cell_type": "code",
   "execution_count": null,
   "id": "282633a6",
   "metadata": {},
   "outputs": [],
   "source": []
  }
 ],
 "metadata": {
  "kernelspec": {
   "display_name": "adrien_base",
   "language": "python",
   "name": "python3"
  },
  "language_info": {
   "codemirror_mode": {
    "name": "ipython",
    "version": 3
   },
   "file_extension": ".py",
   "mimetype": "text/x-python",
   "name": "python",
   "nbconvert_exporter": "python",
   "pygments_lexer": "ipython3",
   "version": "3.9.21"
  }
 },
 "nbformat": 4,
 "nbformat_minor": 5
}
